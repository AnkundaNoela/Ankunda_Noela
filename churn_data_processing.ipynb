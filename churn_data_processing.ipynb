{
 "cells": [
  {
   "cell_type": "code",
   "execution_count": 7,
   "id": "39b430fd",
   "metadata": {},
   "outputs": [],
   "source": [
    "import pandas as pd\n",
    "import numpy as np\n",
    "import tensorflow as tf\n",
    "from tensorflow import keras\n",
    "from sklearn.model_selection import train_test_split\n",
    "from sklearn.preprocessing import StandardScaler\n",
    "from sklearn.metrics import classification_report, confusion_matrix\n",
    "import matplotlib.pyplot as plt\n",
    "import seaborn as sns"
   ]
  },
  {
   "cell_type": "code",
   "execution_count": 12,
   "id": "ff1fb3cc",
   "metadata": {},
   "outputs": [
    {
     "name": "stdout",
     "output_type": "stream",
     "text": [
      "Requirement already satisfied: pandas in c:\\users\\hp\\appdata\\local\\programs\\python\\python311\\lib\\site-packages (2.3.0)\n",
      "Requirement already satisfied: numpy>=1.23.2 in c:\\users\\hp\\appdata\\local\\programs\\python\\python311\\lib\\site-packages (from pandas) (2.1.3)\n",
      "Requirement already satisfied: python-dateutil>=2.8.2 in c:\\users\\hp\\appdata\\local\\programs\\python\\python311\\lib\\site-packages (from pandas) (2.9.0.post0)\n",
      "Requirement already satisfied: pytz>=2020.1 in c:\\users\\hp\\appdata\\local\\programs\\python\\python311\\lib\\site-packages (from pandas) (2025.2)\n",
      "Requirement already satisfied: tzdata>=2022.7 in c:\\users\\hp\\appdata\\local\\programs\\python\\python311\\lib\\site-packages (from pandas) (2025.2)\n",
      "Requirement already satisfied: six>=1.5 in c:\\users\\hp\\appdata\\local\\programs\\python\\python311\\lib\\site-packages (from python-dateutil>=2.8.2->pandas) (1.17.0)\n",
      "Note: you may need to restart the kernel to use updated packages.\n"
     ]
    }
   ],
   "source": [
    "%pip install pandas\n"
   ]
  },
  {
   "cell_type": "code",
   "execution_count": 8,
   "id": "80db766d",
   "metadata": {},
   "outputs": [
    {
     "name": "stdout",
     "output_type": "stream",
     "text": [
      "Collecting scikit-learn\n",
      "  Downloading scikit_learn-1.7.0-cp311-cp311-win_amd64.whl.metadata (14 kB)\n",
      "Requirement already satisfied: numpy>=1.22.0 in c:\\users\\hp\\appdata\\local\\programs\\python\\python311\\lib\\site-packages (from scikit-learn) (2.1.3)\n",
      "Requirement already satisfied: scipy>=1.8.0 in c:\\users\\hp\\appdata\\local\\programs\\python\\python311\\lib\\site-packages (from scikit-learn) (1.15.3)\n",
      "Collecting joblib>=1.2.0 (from scikit-learn)\n",
      "  Using cached joblib-1.5.1-py3-none-any.whl.metadata (5.6 kB)\n",
      "Collecting threadpoolctl>=3.1.0 (from scikit-learn)\n",
      "  Using cached threadpoolctl-3.6.0-py3-none-any.whl.metadata (13 kB)\n",
      "Downloading scikit_learn-1.7.0-cp311-cp311-win_amd64.whl (10.7 MB)\n",
      "   ---------------------------------------- 0.0/10.7 MB ? eta -:--:--\n",
      "   ---------------------------------------- 0.0/10.7 MB ? eta -:--:--\n",
      "    --------------------------------------- 0.3/10.7 MB ? eta -:--:--\n",
      "   - -------------------------------------- 0.5/10.7 MB 1.5 MB/s eta 0:00:07\n",
      "   --- ------------------------------------ 1.0/10.7 MB 1.4 MB/s eta 0:00:07\n",
      "   ---- ----------------------------------- 1.3/10.7 MB 1.4 MB/s eta 0:00:07\n",
      "   ---- ----------------------------------- 1.3/10.7 MB 1.4 MB/s eta 0:00:07\n",
      "   ----- ---------------------------------- 1.6/10.7 MB 1.3 MB/s eta 0:00:08\n",
      "   ------ --------------------------------- 1.8/10.7 MB 1.2 MB/s eta 0:00:08\n",
      "   ------- -------------------------------- 2.1/10.7 MB 1.2 MB/s eta 0:00:08\n",
      "   -------- ------------------------------- 2.4/10.7 MB 1.2 MB/s eta 0:00:08\n",
      "   --------- ------------------------------ 2.6/10.7 MB 1.2 MB/s eta 0:00:07\n",
      "   ---------- ----------------------------- 2.9/10.7 MB 1.2 MB/s eta 0:00:07\n",
      "   ----------- ---------------------------- 3.1/10.7 MB 1.2 MB/s eta 0:00:07\n",
      "   ------------ --------------------------- 3.4/10.7 MB 1.2 MB/s eta 0:00:06\n",
      "   -------------- ------------------------- 3.9/10.7 MB 1.3 MB/s eta 0:00:06\n",
      "   --------------- ------------------------ 4.2/10.7 MB 1.3 MB/s eta 0:00:06\n",
      "   ---------------- ----------------------- 4.5/10.7 MB 1.3 MB/s eta 0:00:05\n",
      "   ----------------- ---------------------- 4.7/10.7 MB 1.3 MB/s eta 0:00:05\n",
      "   ------------------ --------------------- 5.0/10.7 MB 1.3 MB/s eta 0:00:05\n",
      "   ------------------- -------------------- 5.2/10.7 MB 1.3 MB/s eta 0:00:05\n",
      "   -------------------- ------------------- 5.5/10.7 MB 1.3 MB/s eta 0:00:05\n",
      "   --------------------- ------------------ 5.8/10.7 MB 1.3 MB/s eta 0:00:04\n",
      "   ---------------------- ----------------- 6.0/10.7 MB 1.3 MB/s eta 0:00:04\n",
      "   ----------------------- ---------------- 6.3/10.7 MB 1.3 MB/s eta 0:00:04\n",
      "   ------------------------ --------------- 6.6/10.7 MB 1.3 MB/s eta 0:00:04\n",
      "   -------------------------- ------------- 7.1/10.7 MB 1.3 MB/s eta 0:00:03\n",
      "   --------------------------- ------------ 7.3/10.7 MB 1.3 MB/s eta 0:00:03\n",
      "   ---------------------------- ----------- 7.6/10.7 MB 1.3 MB/s eta 0:00:03\n",
      "   ----------------------------- ---------- 7.9/10.7 MB 1.3 MB/s eta 0:00:03\n",
      "   ------------------------------ --------- 8.1/10.7 MB 1.3 MB/s eta 0:00:02\n",
      "   -------------------------------- ------- 8.7/10.7 MB 1.3 MB/s eta 0:00:02\n",
      "   --------------------------------- ------ 8.9/10.7 MB 1.3 MB/s eta 0:00:02\n",
      "   ---------------------------------- ----- 9.2/10.7 MB 1.3 MB/s eta 0:00:02\n",
      "   ----------------------------------- ---- 9.4/10.7 MB 1.3 MB/s eta 0:00:01\n",
      "   ------------------------------------ --- 9.7/10.7 MB 1.3 MB/s eta 0:00:01\n",
      "   ------------------------------------- -- 10.0/10.7 MB 1.3 MB/s eta 0:00:01\n",
      "   -------------------------------------- - 10.2/10.7 MB 1.3 MB/s eta 0:00:01\n",
      "   ---------------------------------------  10.5/10.7 MB 1.3 MB/s eta 0:00:01\n",
      "   ---------------------------------------- 10.7/10.7 MB 1.3 MB/s eta 0:00:00\n",
      "Using cached joblib-1.5.1-py3-none-any.whl (307 kB)\n",
      "Using cached threadpoolctl-3.6.0-py3-none-any.whl (18 kB)\n",
      "Installing collected packages: threadpoolctl, joblib, scikit-learn\n",
      "\n",
      "   ------------- -------------------------- 1/3 [joblib]\n",
      "   ------------- -------------------------- 1/3 [joblib]\n",
      "   ------------- -------------------------- 1/3 [joblib]\n",
      "   ------------- -------------------------- 1/3 [joblib]\n",
      "   ------------- -------------------------- 1/3 [joblib]\n",
      "   ------------- -------------------------- 1/3 [joblib]\n",
      "   ------------- -------------------------- 1/3 [joblib]\n",
      "   ------------- -------------------------- 1/3 [joblib]\n",
      "   ------------- -------------------------- 1/3 [joblib]\n",
      "   ------------- -------------------------- 1/3 [joblib]\n",
      "   -------------------------- ------------- 2/3 [scikit-learn]\n",
      "   -------------------------- ------------- 2/3 [scikit-learn]\n",
      "   -------------------------- ------------- 2/3 [scikit-learn]\n",
      "   -------------------------- ------------- 2/3 [scikit-learn]\n",
      "   -------------------------- ------------- 2/3 [scikit-learn]\n",
      "   -------------------------- ------------- 2/3 [scikit-learn]\n",
      "   -------------------------- ------------- 2/3 [scikit-learn]\n",
      "   -------------------------- ------------- 2/3 [scikit-learn]\n",
      "   -------------------------- ------------- 2/3 [scikit-learn]\n",
      "   -------------------------- ------------- 2/3 [scikit-learn]\n",
      "   -------------------------- ------------- 2/3 [scikit-learn]\n",
      "   -------------------------- ------------- 2/3 [scikit-learn]\n",
      "   -------------------------- ------------- 2/3 [scikit-learn]\n",
      "   -------------------------- ------------- 2/3 [scikit-learn]\n",
      "   -------------------------- ------------- 2/3 [scikit-learn]\n",
      "   -------------------------- ------------- 2/3 [scikit-learn]\n",
      "   -------------------------- ------------- 2/3 [scikit-learn]\n",
      "   -------------------------- ------------- 2/3 [scikit-learn]\n",
      "   -------------------------- ------------- 2/3 [scikit-learn]\n",
      "   -------------------------- ------------- 2/3 [scikit-learn]\n",
      "   -------------------------- ------------- 2/3 [scikit-learn]\n",
      "   -------------------------- ------------- 2/3 [scikit-learn]\n",
      "   -------------------------- ------------- 2/3 [scikit-learn]\n",
      "   -------------------------- ------------- 2/3 [scikit-learn]\n",
      "   -------------------------- ------------- 2/3 [scikit-learn]\n",
      "   -------------------------- ------------- 2/3 [scikit-learn]\n",
      "   -------------------------- ------------- 2/3 [scikit-learn]\n",
      "   -------------------------- ------------- 2/3 [scikit-learn]\n",
      "   -------------------------- ------------- 2/3 [scikit-learn]\n",
      "   -------------------------- ------------- 2/3 [scikit-learn]\n",
      "   -------------------------- ------------- 2/3 [scikit-learn]\n",
      "   -------------------------- ------------- 2/3 [scikit-learn]\n",
      "   -------------------------- ------------- 2/3 [scikit-learn]\n",
      "   -------------------------- ------------- 2/3 [scikit-learn]\n",
      "   -------------------------- ------------- 2/3 [scikit-learn]\n",
      "   -------------------------- ------------- 2/3 [scikit-learn]\n",
      "   -------------------------- ------------- 2/3 [scikit-learn]\n",
      "   -------------------------- ------------- 2/3 [scikit-learn]\n",
      "   -------------------------- ------------- 2/3 [scikit-learn]\n",
      "   -------------------------- ------------- 2/3 [scikit-learn]\n",
      "   -------------------------- ------------- 2/3 [scikit-learn]\n",
      "   -------------------------- ------------- 2/3 [scikit-learn]\n",
      "   -------------------------- ------------- 2/3 [scikit-learn]\n",
      "   -------------------------- ------------- 2/3 [scikit-learn]\n",
      "   -------------------------- ------------- 2/3 [scikit-learn]\n",
      "   -------------------------- ------------- 2/3 [scikit-learn]\n",
      "   -------------------------- ------------- 2/3 [scikit-learn]\n",
      "   -------------------------- ------------- 2/3 [scikit-learn]\n",
      "   -------------------------- ------------- 2/3 [scikit-learn]\n",
      "   -------------------------- ------------- 2/3 [scikit-learn]\n",
      "   -------------------------- ------------- 2/3 [scikit-learn]\n",
      "   -------------------------- ------------- 2/3 [scikit-learn]\n",
      "   -------------------------- ------------- 2/3 [scikit-learn]\n",
      "   -------------------------- ------------- 2/3 [scikit-learn]\n",
      "   -------------------------- ------------- 2/3 [scikit-learn]\n",
      "   -------------------------- ------------- 2/3 [scikit-learn]\n",
      "   -------------------------- ------------- 2/3 [scikit-learn]\n",
      "   -------------------------- ------------- 2/3 [scikit-learn]\n",
      "   -------------------------- ------------- 2/3 [scikit-learn]\n",
      "   -------------------------- ------------- 2/3 [scikit-learn]\n",
      "   -------------------------- ------------- 2/3 [scikit-learn]\n",
      "   -------------------------- ------------- 2/3 [scikit-learn]\n",
      "   -------------------------- ------------- 2/3 [scikit-learn]\n",
      "   -------------------------- ------------- 2/3 [scikit-learn]\n",
      "   -------------------------- ------------- 2/3 [scikit-learn]\n",
      "   -------------------------- ------------- 2/3 [scikit-learn]\n",
      "   -------------------------- ------------- 2/3 [scikit-learn]\n",
      "   -------------------------- ------------- 2/3 [scikit-learn]\n",
      "   -------------------------- ------------- 2/3 [scikit-learn]\n",
      "   -------------------------- ------------- 2/3 [scikit-learn]\n",
      "   -------------------------- ------------- 2/3 [scikit-learn]\n",
      "   -------------------------- ------------- 2/3 [scikit-learn]\n",
      "   -------------------------- ------------- 2/3 [scikit-learn]\n",
      "   -------------------------- ------------- 2/3 [scikit-learn]\n",
      "   -------------------------- ------------- 2/3 [scikit-learn]\n",
      "   -------------------------- ------------- 2/3 [scikit-learn]\n",
      "   -------------------------- ------------- 2/3 [scikit-learn]\n",
      "   -------------------------- ------------- 2/3 [scikit-learn]\n",
      "   -------------------------- ------------- 2/3 [scikit-learn]\n",
      "   -------------------------- ------------- 2/3 [scikit-learn]\n",
      "   -------------------------- ------------- 2/3 [scikit-learn]\n",
      "   -------------------------- ------------- 2/3 [scikit-learn]\n",
      "   -------------------------- ------------- 2/3 [scikit-learn]\n",
      "   ---------------------------------------- 3/3 [scikit-learn]\n",
      "\n",
      "Successfully installed joblib-1.5.1 scikit-learn-1.7.0 threadpoolctl-3.6.0\n",
      "Note: you may need to restart the kernel to use updated packages.\n"
     ]
    }
   ],
   "source": [
    "%pip install scikit-learn\n"
   ]
  },
  {
   "cell_type": "code",
   "execution_count": 27,
   "id": "a928113d",
   "metadata": {},
   "outputs": [
    {
     "name": "stdout",
     "output_type": "stream",
     "text": [
      "Collecting seaborn\n",
      "  Using cached seaborn-0.13.2-py3-none-any.whl.metadata (5.4 kB)\n",
      "Requirement already satisfied: numpy!=1.24.0,>=1.20 in c:\\users\\hp\\appdata\\local\\programs\\python\\python311\\lib\\site-packages (from seaborn) (2.1.3)\n",
      "Requirement already satisfied: pandas>=1.2 in c:\\users\\hp\\appdata\\local\\programs\\python\\python311\\lib\\site-packages (from seaborn) (2.3.0)\n",
      "Requirement already satisfied: matplotlib!=3.6.1,>=3.4 in c:\\users\\hp\\appdata\\local\\programs\\python\\python311\\lib\\site-packages (from seaborn) (3.10.3)\n",
      "Requirement already satisfied: contourpy>=1.0.1 in c:\\users\\hp\\appdata\\local\\programs\\python\\python311\\lib\\site-packages (from matplotlib!=3.6.1,>=3.4->seaborn) (1.3.2)\n",
      "Requirement already satisfied: cycler>=0.10 in c:\\users\\hp\\appdata\\local\\programs\\python\\python311\\lib\\site-packages (from matplotlib!=3.6.1,>=3.4->seaborn) (0.12.1)\n",
      "Requirement already satisfied: fonttools>=4.22.0 in c:\\users\\hp\\appdata\\local\\programs\\python\\python311\\lib\\site-packages (from matplotlib!=3.6.1,>=3.4->seaborn) (4.58.2)\n",
      "Requirement already satisfied: kiwisolver>=1.3.1 in c:\\users\\hp\\appdata\\local\\programs\\python\\python311\\lib\\site-packages (from matplotlib!=3.6.1,>=3.4->seaborn) (1.4.8)\n",
      "Requirement already satisfied: packaging>=20.0 in c:\\users\\hp\\appdata\\local\\programs\\python\\python311\\lib\\site-packages (from matplotlib!=3.6.1,>=3.4->seaborn) (25.0)\n",
      "Requirement already satisfied: pillow>=8 in c:\\users\\hp\\appdata\\local\\programs\\python\\python311\\lib\\site-packages (from matplotlib!=3.6.1,>=3.4->seaborn) (11.2.1)\n",
      "Requirement already satisfied: pyparsing>=2.3.1 in c:\\users\\hp\\appdata\\local\\programs\\python\\python311\\lib\\site-packages (from matplotlib!=3.6.1,>=3.4->seaborn) (3.2.3)\n",
      "Requirement already satisfied: python-dateutil>=2.7 in c:\\users\\hp\\appdata\\local\\programs\\python\\python311\\lib\\site-packages (from matplotlib!=3.6.1,>=3.4->seaborn) (2.9.0.post0)\n",
      "Requirement already satisfied: pytz>=2020.1 in c:\\users\\hp\\appdata\\local\\programs\\python\\python311\\lib\\site-packages (from pandas>=1.2->seaborn) (2025.2)\n",
      "Requirement already satisfied: tzdata>=2022.7 in c:\\users\\hp\\appdata\\local\\programs\\python\\python311\\lib\\site-packages (from pandas>=1.2->seaborn) (2025.2)\n",
      "Requirement already satisfied: six>=1.5 in c:\\users\\hp\\appdata\\local\\programs\\python\\python311\\lib\\site-packages (from python-dateutil>=2.7->matplotlib!=3.6.1,>=3.4->seaborn) (1.17.0)\n",
      "Using cached seaborn-0.13.2-py3-none-any.whl (294 kB)\n",
      "Installing collected packages: seaborn\n",
      "Successfully installed seaborn-0.13.2\n",
      "Note: you may need to restart the kernel to use updated packages.\n"
     ]
    }
   ],
   "source": [
    "%pip install seaborn\n"
   ]
  },
  {
   "cell_type": "code",
   "execution_count": 4,
   "id": "f4e0dfa2",
   "metadata": {},
   "outputs": [],
   "source": [
    "# Load data\n",
    "df = pd.read_csv('Churn.csv')\n",
    "\n",
    "\n",
    " \n",
    "\n"
   ]
  },
  {
   "cell_type": "code",
   "execution_count": 15,
   "id": "0eab7d2a",
   "metadata": {},
   "outputs": [],
   "source": [
    "# Strip whitespace from column names\n",
    "df.columns = df.columns.str.strip()\n",
    "\n",
    "# Remove unnecessary ID column\n",
    "df.drop('Customer ID', axis=1, inplace=True)"
   ]
  },
  {
   "cell_type": "code",
   "execution_count": 16,
   "id": "dd91925b",
   "metadata": {},
   "outputs": [],
   "source": [
    "# Strip whitespace from all string entries (optional, safe)\n",
    "for col in df.select_dtypes(include='object'):\n",
    "    df[col] = df[col].str.strip()\n",
    "\n"
   ]
  },
  {
   "cell_type": "code",
   "execution_count": 17,
   "id": "152a10a3",
   "metadata": {},
   "outputs": [],
   "source": [
    "# Handle missing values in 'Total Charges'\n",
    "df['Total Charges'] = df['Total Charges'].replace(\" \", pd.NA)\n",
    "df['Total Charges'] = pd.to_numeric(df['Total Charges'])\n",
    "df.dropna(inplace=True)"
   ]
  },
  {
   "cell_type": "code",
   "execution_count": 6,
   "id": "b2f279d6",
   "metadata": {},
   "outputs": [],
   "source": [
    "#encode categorical features\n",
    "df = pd.get_dummies(df, drop_first=True)\n",
    "\n",
    "# Separate features and label\n",
    "X = df.drop('Churn_Yes', axis=1)\n",
    "y = df['Churn_Yes']"
   ]
  },
  {
   "cell_type": "code",
   "execution_count": 6,
   "id": "51e58cf4",
   "metadata": {},
   "outputs": [
    {
     "name": "stdout",
     "output_type": "stream",
     "text": [
      "Duplicates after removal: 0\n",
      "\n",
      "Missing values per column:\n",
      "Customer ID          0\n",
      "Gender               0\n",
      "Senior Citizen       0\n",
      "Partner              0\n",
      "Dependents           0\n",
      "tenure               0\n",
      "Phone Service        0\n",
      "Multiple Lines       0\n",
      "Internet Service     0\n",
      "Online Security      0\n",
      "Online Backup        0\n",
      "Device Protection    0\n",
      "Tech Support         0\n",
      "Streaming TV         0\n",
      "Streaming Movies     0\n",
      "Contract             0\n",
      "Paperless Billing    0\n",
      "Payment Method       0\n",
      "Monthly Charges      0\n",
      "Total Charges        0\n",
      "Churn                0\n",
      "dtype: int64\n",
      "\n",
      "Data types:\n",
      "Customer ID           object\n",
      "Gender                object\n",
      "Senior Citizen         int64\n",
      "Partner               object\n",
      "Dependents            object\n",
      "tenure                 int64\n",
      "Phone Service         object\n",
      "Multiple Lines        object\n",
      "Internet Service      object\n",
      "Online Security       object\n",
      "Online Backup         object\n",
      "Device Protection     object\n",
      "Tech Support          object\n",
      "Streaming TV          object\n",
      "Streaming Movies      object\n",
      "Contract              object\n",
      "Paperless Billing     object\n",
      "Payment Method        object\n",
      "Monthly Charges      float64\n",
      "Total Charges         object\n",
      "Churn                 object\n",
      "dtype: object\n",
      "\n",
      "Sample cleaned data:\n",
      "  Customer ID  Gender  Senior Citizen Partner Dependents  tenure  \\\n",
      "0  7590-VHVEA  Female               0     Yes         No       1   \n",
      "1  7590-VHVEG  Female               0     Yes         No       1   \n",
      "2  5575-GNVDE    Male               0      No         No      34   \n",
      "3  3668-QPYBK    Male               0      No         No       2   \n",
      "4  7795-CFOCW    Male               0      No         No      45   \n",
      "\n",
      "  Phone Service    Multiple Lines Internet Service Online Security  ...  \\\n",
      "0            No  No phone service              DSL              No  ...   \n",
      "1            No  No phone service              DSL              No  ...   \n",
      "2           Yes                No              DSL             Yes  ...   \n",
      "3           Yes                No              DSL             Yes  ...   \n",
      "4            No  No phone service              DSL             Yes  ...   \n",
      "\n",
      "  Device Protection Tech Support Streaming TV Streaming Movies  \\\n",
      "0                No           No           No               No   \n",
      "1                No           No           No               No   \n",
      "2               Yes           No           No               No   \n",
      "3                No           No           No               No   \n",
      "4               Yes          Yes           No               No   \n",
      "\n",
      "         Contract Paperless Billing             Payment Method  \\\n",
      "0  Month-to-month               Yes           Electronic check   \n",
      "1  Month-to-month               Yes           Electronic check   \n",
      "2        One year                No               Mailed check   \n",
      "3  Month-to-month               Yes               Mailed check   \n",
      "4        One year                No  Bank transfer (automatic)   \n",
      "\n",
      "  Monthly Charges  Total Charges Churn  \n",
      "0           29.85          29.85    No  \n",
      "1           29.85          29.85    No  \n",
      "2           56.95         1889.5    No  \n",
      "3           53.85         108.15   Yes  \n",
      "4           42.30        1840.75    No  \n",
      "\n",
      "[5 rows x 21 columns]\n"
     ]
    }
   ],
   "source": [
    "# Check for duplicates\n",
    "\n",
    "\n",
    "\n",
    "df.drop_duplicates(inplace=True)\n",
    "print(f\"Duplicates after removal: {df.duplicated().sum()}\")  \n",
    "\n",
    "# Check for nulls\n",
    "print(\"\\nMissing values per column:\")\n",
    "print(df.isnull().sum())  # Should all be 0\n",
    "\n",
    "# Check data types\n",
    "print(\"\\nData types:\")\n",
    "print(df.dtypes)\n",
    "\n",
    "# Optional: preview cleaned data\n",
    "print(\"\\nSample cleaned data:\")\n",
    "print(df.head())\n",
    "\n"
   ]
  },
  {
   "cell_type": "code",
   "execution_count": 7,
   "id": "8f2d5c05",
   "metadata": {},
   "outputs": [
    {
     "data": {
      "image/png": "[encoded data removed]",
      "text/plain": [
       "<Figure size 640x480 with 1 Axes>"
      ]
     },
     "metadata": {},
     "output_type": "display_data"
    }
   ],
   "source": [
    "# Histogram of a continuous variable\n",
    "sns.histplot(df['Monthly Charges'])\n",
    "plt.title('Monthly Charges Distribution')\n",
    "plt.show()\n"
   ]
  },
  {
   "cell_type": "code",
   "execution_count": 8,
   "id": "282dbe3d",
   "metadata": {},
   "outputs": [
    {
     "data": {
      "image/png": "[encoded data removed]",
      "text/plain": [
       "<Figure size 640x480 with 1 Axes>"
      ]
     },
     "metadata": {},
     "output_type": "display_data"
    }
   ],
   "source": [
    "# Count plot of a categorical variable\n",
    "sns.countplot(x='Senior Citizen', data=df)\n",
    "plt.title('Senior Citizen Distribution')\n",
    "plt.show()"
   ]
  },
  {
   "cell_type": "code",
   "execution_count": 5,
   "id": "c630db34",
   "metadata": {},
   "outputs": [
    {
     "name": "stdout",
     "output_type": "stream",
     "text": [
      "Available columns after stripping:\n",
      "['Customer ID', 'Gender', 'Senior Citizen', 'Partner', 'Dependents', 'tenure', 'Phone Service', 'Multiple Lines', 'Internet Service', 'Online Security', 'Online Backup', 'Device Protection', 'Tech Support', 'Streaming TV', 'Streaming Movies', 'Contract', 'Paperless Billing', 'Payment Method', 'Monthly Charges', 'Total Charges', 'Churn']\n",
      "DataFrame shape: (7044, 21)\n",
      "Found churn column: 'Churn'\n",
      "Unique values in Churn: ['No' 'Yes']\n",
      "Categorical columns to encode: ['Customer ID', 'Gender', 'Partner', 'Dependents', 'Phone Service', 'Multiple Lines', 'Internet Service', 'Online Security', 'Online Backup', 'Device Protection', 'Tech Support', 'Streaming TV', 'Streaming Movies', 'Contract', 'Paperless Billing', 'Payment Method', 'Total Charges']\n",
      "Final feature matrix shape: (7044, 13619)\n",
      "Target variable shape: (7044,)\n",
      "Target distribution:\n",
      "Churn\n",
      "0    5175\n",
      "1    1869\n",
      "Name: count, dtype: int64\n",
      "First 5 feature columns: ['Senior Citizen', 'tenure', 'Monthly Charges', 'Customer ID_0002-ORFBO', 'Customer ID_0003-MKNFE']\n"
     ]
    }
   ],
   "source": [
    "# Strip leading/trailing spaces from column names\n",
    "df.columns = df.columns.str.strip()\n",
    "\n",
    "# Debug: Check what columns exist\n",
    "print(\"Available columns after stripping:\")\n",
    "print(df.columns.tolist())\n",
    "print(f\"DataFrame shape: {df.shape}\")\n",
    "\n",
    "# Find the churn column (case-insensitive search)\n",
    "churn_col = None\n",
    "for col in df.columns:\n",
    "    if 'churn' in col.lower():\n",
    "        churn_col = col\n",
    "        break\n",
    "\n",
    "if churn_col is None:\n",
    "    print(\"Error: No column containing 'churn' found!\")\n",
    "    print(\"Please check your column names above.\")\n",
    "else:\n",
    "    print(f\"Found churn column: '{churn_col}'\")\n",
    "    \n",
    "    # Check unique values in the churn column\n",
    "    print(f\"Unique values in {churn_col}: {df[churn_col].unique()}\")\n",
    "    \n",
    "    # Keep a copy of Churn and convert it to binary\n",
    "    target = df[churn_col].map({'Yes': 1, 'No': 0})\n",
    "    \n",
    "    # Check if mapping worked correctly\n",
    "    if target.isna().any():\n",
    "        print(\"Warning: Some values couldn't be mapped. Check unique values above.\")\n",
    "        print(\"Unmapped values:\", df[churn_col][target.isna()].unique())\n",
    "    \n",
    "    # Identify categorical features excluding the churn column\n",
    "    cat_cols = df.select_dtypes(include='object').columns.tolist()\n",
    "    \n",
    "    # Remove the churn column from categorical columns\n",
    "    if churn_col in cat_cols:\n",
    "        cat_cols.remove(churn_col)\n",
    "    \n",
    "    print(f\"Categorical columns to encode: {cat_cols}\")\n",
    "    \n",
    "    # One-hot encode categorical features\n",
    "    df_encoded = pd.get_dummies(df.drop(churn_col, axis=1), columns=cat_cols)\n",
    "    \n",
    "    # Final feature and target split\n",
    "    X = df_encoded\n",
    "    y = target\n",
    "    \n",
    "    print(f\"Final feature matrix shape: {X.shape}\")\n",
    "    print(f\"Target variable shape: {y.shape}\")\n",
    "    print(f\"Target distribution:\\n{y.value_counts()}\")\n",
    "    \n",
    "    # Display first few columns of the encoded features\n",
    "    print(f\"First 5 feature columns: {X.columns[:5].tolist()}\")"
   ]
  },
  {
   "cell_type": "code",
   "execution_count": null,
   "id": "c852d56f",
   "metadata": {},
   "outputs": [
    {
     "name": "stdout",
     "output_type": "stream",
     "text": [
      "Training set shape: (5635, 13619)\n",
      "Test set shape: (1409, 13619)\n"
     ]
    },
    {
     "name": "stderr",
     "output_type": "stream",
     "text": [
      "c:\\Users\\HP\\AppData\\Local\\Programs\\Python\\Python311\\Lib\\site-packages\\keras\\src\\layers\\core\\dense.py:93: UserWarning: Do not pass an `input_shape`/`input_dim` argument to a layer. When using Sequential models, prefer using an `Input(shape)` object as the first layer in the model instead.\n",
      "  super().__init__(activity_regularizer=activity_regularizer, **kwargs)\n"
     ]
    },
    {
     "name": "stdout",
     "output_type": "stream",
     "text": [
      "\n",
      "Model Architecture:\n"
     ]
    },
    {
     "data": {
      "text/html": [
       "<pre style=\"white-space:pre;overflow-x:auto;line-height:normal;font-family:Menlo,'DejaVu Sans Mono',consolas,'Courier New',monospace\"><span style=\"font-weight: bold\">Model: \"sequential\"</span>\n",
       "</pre>\n"
      ],
      "text/plain": [
       "\u001b[1mModel: \"sequential\"\u001b[0m\n"
      ]
     },
     "metadata": {},
     "output_type": "display_data"
    },
    {
     "data": {
      "text/html": [
       "<pre style=\"white-space:pre;overflow-x:auto;line-height:normal;font-family:Menlo,'DejaVu Sans Mono',consolas,'Courier New',monospace\">┏━━━━━━━━━━━━━━━━━━━━━━━━━━━━━━━━━┳━━━━━━━━━━━━━━━━━━━━━━━━┳━━━━━━━━━━━━━━━┓\n",
       "┃<span style=\"font-weight: bold\"> Layer (type)                    </span>┃<span style=\"font-weight: bold\"> Output Shape           </span>┃<span style=\"font-weight: bold\">       Param # </span>┃\n",
       "┡━━━━━━━━━━━━━━━━━━━━━━━━━━━━━━━━━╇━━━━━━━━━━━━━━━━━━━━━━━━╇━━━━━━━━━━━━━━━┩\n",
       "│ dense (<span style=\"color: #0087ff; text-decoration-color: #0087ff\">Dense</span>)                   │ (<span style=\"color: #00d7ff; text-decoration-color: #00d7ff\">None</span>, <span style=\"color: #00af00; text-decoration-color: #00af00\">128</span>)            │     <span style=\"color: #00af00; text-decoration-color: #00af00\">1,743,360</span> │\n",
       "├─────────────────────────────────┼────────────────────────┼───────────────┤\n",
       "│ dropout (<span style=\"color: #0087ff; text-decoration-color: #0087ff\">Dropout</span>)               │ (<span style=\"color: #00d7ff; text-decoration-color: #00d7ff\">None</span>, <span style=\"color: #00af00; text-decoration-color: #00af00\">128</span>)            │             <span style=\"color: #00af00; text-decoration-color: #00af00\">0</span> │\n",
       "├─────────────────────────────────┼────────────────────────┼───────────────┤\n",
       "│ dense_1 (<span style=\"color: #0087ff; text-decoration-color: #0087ff\">Dense</span>)                 │ (<span style=\"color: #00d7ff; text-decoration-color: #00d7ff\">None</span>, <span style=\"color: #00af00; text-decoration-color: #00af00\">64</span>)             │         <span style=\"color: #00af00; text-decoration-color: #00af00\">8,256</span> │\n",
       "├─────────────────────────────────┼────────────────────────┼───────────────┤\n",
       "│ dropout_1 (<span style=\"color: #0087ff; text-decoration-color: #0087ff\">Dropout</span>)             │ (<span style=\"color: #00d7ff; text-decoration-color: #00d7ff\">None</span>, <span style=\"color: #00af00; text-decoration-color: #00af00\">64</span>)             │             <span style=\"color: #00af00; text-decoration-color: #00af00\">0</span> │\n",
       "├─────────────────────────────────┼────────────────────────┼───────────────┤\n",
       "│ dense_2 (<span style=\"color: #0087ff; text-decoration-color: #0087ff\">Dense</span>)                 │ (<span style=\"color: #00d7ff; text-decoration-color: #00d7ff\">None</span>, <span style=\"color: #00af00; text-decoration-color: #00af00\">32</span>)             │         <span style=\"color: #00af00; text-decoration-color: #00af00\">2,080</span> │\n",
       "├─────────────────────────────────┼────────────────────────┼───────────────┤\n",
       "│ dropout_2 (<span style=\"color: #0087ff; text-decoration-color: #0087ff\">Dropout</span>)             │ (<span style=\"color: #00d7ff; text-decoration-color: #00d7ff\">None</span>, <span style=\"color: #00af00; text-decoration-color: #00af00\">32</span>)             │             <span style=\"color: #00af00; text-decoration-color: #00af00\">0</span> │\n",
       "├─────────────────────────────────┼────────────────────────┼───────────────┤\n",
       "│ dense_3 (<span style=\"color: #0087ff; text-decoration-color: #0087ff\">Dense</span>)                 │ (<span style=\"color: #00d7ff; text-decoration-color: #00d7ff\">None</span>, <span style=\"color: #00af00; text-decoration-color: #00af00\">1</span>)              │            <span style=\"color: #00af00; text-decoration-color: #00af00\">33</span> │\n",
       "└─────────────────────────────────┴────────────────────────┴───────────────┘\n",
       "</pre>\n"
      ],
      "text/plain": [
       "┏━━━━━━━━━━━━━━━━━━━━━━━━━━━━━━━━━┳━━━━━━━━━━━━━━━━━━━━━━━━┳━━━━━━━━━━━━━━━┓\n",
       "┃\u001b[1m \u001b[0m\u001b[1mLayer (type)                   \u001b[0m\u001b[1m \u001b[0m┃\u001b[1m \u001b[0m\u001b[1mOutput Shape          \u001b[0m\u001b[1m \u001b[0m┃\u001b[1m \u001b[0m\u001b[1m      Param #\u001b[0m\u001b[1m \u001b[0m┃\n",
       "┡━━━━━━━━━━━━━━━━━━━━━━━━━━━━━━━━━╇━━━━━━━━━━━━━━━━━━━━━━━━╇━━━━━━━━━━━━━━━┩\n",
       "│ dense (\u001b[38;5;33mDense\u001b[0m)                   │ (\u001b[38;5;45mNone\u001b[0m, \u001b[38;5;34m128\u001b[0m)            │     \u001b[38;5;34m1,743,360\u001b[0m │\n",
       "├─────────────────────────────────┼────────────────────────┼───────────────┤\n",
       "│ dropout (\u001b[38;5;33mDropout\u001b[0m)               │ (\u001b[38;5;45mNone\u001b[0m, \u001b[38;5;34m128\u001b[0m)            │             \u001b[38;5;34m0\u001b[0m │\n",
       "├─────────────────────────────────┼────────────────────────┼───────────────┤\n",
       "│ dense_1 (\u001b[38;5;33mDense\u001b[0m)                 │ (\u001b[38;5;45mNone\u001b[0m, \u001b[38;5;34m64\u001b[0m)             │         \u001b[38;5;34m8,256\u001b[0m │\n",
       "├─────────────────────────────────┼────────────────────────┼───────────────┤\n",
       "│ dropout_1 (\u001b[38;5;33mDropout\u001b[0m)             │ (\u001b[38;5;45mNone\u001b[0m, \u001b[38;5;34m64\u001b[0m)             │             \u001b[38;5;34m0\u001b[0m │\n",
       "├─────────────────────────────────┼────────────────────────┼───────────────┤\n",
       "│ dense_2 (\u001b[38;5;33mDense\u001b[0m)                 │ (\u001b[38;5;45mNone\u001b[0m, \u001b[38;5;34m32\u001b[0m)             │         \u001b[38;5;34m2,080\u001b[0m │\n",
       "├─────────────────────────────────┼────────────────────────┼───────────────┤\n",
       "│ dropout_2 (\u001b[38;5;33mDropout\u001b[0m)             │ (\u001b[38;5;45mNone\u001b[0m, \u001b[38;5;34m32\u001b[0m)             │             \u001b[38;5;34m0\u001b[0m │\n",
       "├─────────────────────────────────┼────────────────────────┼───────────────┤\n",
       "│ dense_3 (\u001b[38;5;33mDense\u001b[0m)                 │ (\u001b[38;5;45mNone\u001b[0m, \u001b[38;5;34m1\u001b[0m)              │            \u001b[38;5;34m33\u001b[0m │\n",
       "└─────────────────────────────────┴────────────────────────┴───────────────┘\n"
      ]
     },
     "metadata": {},
     "output_type": "display_data"
    },
    {
     "data": {
      "text/html": [
       "<pre style=\"white-space:pre;overflow-x:auto;line-height:normal;font-family:Menlo,'DejaVu Sans Mono',consolas,'Courier New',monospace\"><span style=\"font-weight: bold\"> Total params: </span><span style=\"color: #00af00; text-decoration-color: #00af00\">1,753,729</span> (6.69 MB)\n",
       "</pre>\n"
      ],
      "text/plain": [
       "\u001b[1m Total params: \u001b[0m\u001b[38;5;34m1,753,729\u001b[0m (6.69 MB)\n"
      ]
     },
     "metadata": {},
     "output_type": "display_data"
    },
    {
     "data": {
      "text/html": [
       "<pre style=\"white-space:pre;overflow-x:auto;line-height:normal;font-family:Menlo,'DejaVu Sans Mono',consolas,'Courier New',monospace\"><span style=\"font-weight: bold\"> Trainable params: </span><span style=\"color: #00af00; text-decoration-color: #00af00\">1,753,729</span> (6.69 MB)\n",
       "</pre>\n"
      ],
      "text/plain": [
       "\u001b[1m Trainable params: \u001b[0m\u001b[38;5;34m1,753,729\u001b[0m (6.69 MB)\n"
      ]
     },
     "metadata": {},
     "output_type": "display_data"
    },
    {
     "data": {
      "text/html": [
       "<pre style=\"white-space:pre;overflow-x:auto;line-height:normal;font-family:Menlo,'DejaVu Sans Mono',consolas,'Courier New',monospace\"><span style=\"font-weight: bold\"> Non-trainable params: </span><span style=\"color: #00af00; text-decoration-color: #00af00\">0</span> (0.00 B)\n",
       "</pre>\n"
      ],
      "text/plain": [
       "\u001b[1m Non-trainable params: \u001b[0m\u001b[38;5;34m0\u001b[0m (0.00 B)\n"
      ]
     },
     "metadata": {},
     "output_type": "display_data"
    }
   ],
   "source": [
    "#build\n",
    "# Split the data into training and testing sets\n",
    "X_train, X_test, y_train, y_test = train_test_split(\n",
    "    X, y, test_size=0.2, random_state=42, stratify=y\n",
    ")\n",
    "\n",
    "# Scale the features\n",
    "scaler = StandardScaler()\n",
    "X_train_scaled = scaler.fit_transform(X_train)\n",
    "X_test_scaled = scaler.transform(X_test)\n",
    "\n",
    "print(f\"Training set shape: {X_train_scaled.shape}\")\n",
    "print(f\"Test set shape: {X_test_scaled.shape}\")\n",
    "\n",
    "# Build the TensorFlow model\n",
    "model = keras.Sequential([\n",
    "    keras.layers.Dense(128, activation='relu', input_shape=(X_train_scaled.shape[1],)),\n",
    "    keras.layers.Dropout(0.3),\n",
    "    keras.layers.Dense(64, activation='relu'),\n",
    "    keras.layers.Dropout(0.3),\n",
    "    keras.layers.Dense(32, activation='relu'),\n",
    "    keras.layers.Dropout(0.2),\n",
    "    keras.layers.Dense(1, activation='sigmoid')  # Binary classification\n",
    "])\n",
    "\n",
    "# Compile the model\n",
    "model.compile(\n",
    "    optimizer='adam',\n",
    "    loss='binary_crossentropy',\n",
    "    metrics=['accuracy', 'precision', 'recall']\n",
    ")\n",
    "\n",
    "# Display model architecture\n",
    "print(\"\\nModel Architecture:\")\n",
    "model.summary()"
   ]
  },
  {
   "cell_type": "code",
   "execution_count": 9,
   "id": "5a6c7e5b",
   "metadata": {},
   "outputs": [
    {
     "name": "stdout",
     "output_type": "stream",
     "text": [
      "\n",
      "Training the model...\n",
      "Epoch 1/100\n",
      "\u001b[1m141/141\u001b[0m \u001b[32m━━━━━━━━━━━━━━━━━━━━\u001b[0m\u001b[37m\u001b[0m \u001b[1m16s\u001b[0m 64ms/step - accuracy: 0.7328 - loss: 0.5703 - precision: 0.3125 - recall: 0.0461 - val_accuracy: 0.7720 - val_loss: 0.4682 - val_precision: 0.6397 - val_recall: 0.2949 - learning_rate: 0.0010\n",
      "Epoch 2/100\n",
      "\u001b[1m141/141\u001b[0m \u001b[32m━━━━━━━━━━━━━━━━━━━━\u001b[0m\u001b[37m\u001b[0m \u001b[1m6s\u001b[0m 42ms/step - accuracy: 0.8293 - loss: 0.3671 - precision: 0.7576 - recall: 0.5390 - val_accuracy: 0.7480 - val_loss: 0.4883 - val_precision: 0.5129 - val_recall: 0.7390 - learning_rate: 0.0010\n",
      "Epoch 3/100\n",
      "\u001b[1m141/141\u001b[0m \u001b[32m━━━━━━━━━━━━━━━━━━━━\u001b[0m\u001b[37m\u001b[0m \u001b[1m6s\u001b[0m 41ms/step - accuracy: 0.9514 - loss: 0.1238 - precision: 0.9249 - recall: 0.8920 - val_accuracy: 0.7418 - val_loss: 0.5695 - val_precision: 0.5046 - val_recall: 0.7390 - learning_rate: 0.0010\n",
      "Epoch 4/100\n",
      "\u001b[1m141/141\u001b[0m \u001b[32m━━━━━━━━━━━━━━━━━━━━\u001b[0m\u001b[37m\u001b[0m \u001b[1m6s\u001b[0m 41ms/step - accuracy: 0.9937 - loss: 0.0215 - precision: 0.9946 - recall: 0.9829 - val_accuracy: 0.7294 - val_loss: 0.6587 - val_precision: 0.4883 - val_recall: 0.7085 - learning_rate: 0.0010\n",
      "Epoch 5/100\n",
      "\u001b[1m141/141\u001b[0m \u001b[32m━━━━━━━━━━━━━━━━━━━━\u001b[0m\u001b[37m\u001b[0m \u001b[1m6s\u001b[0m 40ms/step - accuracy: 0.9994 - loss: 0.0047 - precision: 0.9996 - recall: 0.9982 - val_accuracy: 0.7303 - val_loss: 0.7158 - val_precision: 0.4893 - val_recall: 0.6949 - learning_rate: 0.0010\n",
      "Epoch 6/100\n",
      "\u001b[1m141/141\u001b[0m \u001b[32m━━━━━━━━━━━━━━━━━━━━\u001b[0m\u001b[37m\u001b[0m \u001b[1m6s\u001b[0m 40ms/step - accuracy: 0.9995 - loss: 0.0024 - precision: 0.9984 - recall: 0.9996 - val_accuracy: 0.7329 - val_loss: 0.7550 - val_precision: 0.4928 - val_recall: 0.6949 - learning_rate: 0.0010\n",
      "Epoch 7/100\n",
      "\u001b[1m141/141\u001b[0m \u001b[32m━━━━━━━━━━━━━━━━━━━━\u001b[0m\u001b[37m\u001b[0m \u001b[1m6s\u001b[0m 41ms/step - accuracy: 0.9997 - loss: 0.0019 - precision: 0.9993 - recall: 0.9996 - val_accuracy: 0.7338 - val_loss: 0.7711 - val_precision: 0.4941 - val_recall: 0.7051 - learning_rate: 2.0000e-04\n",
      "Epoch 8/100\n",
      "\u001b[1m141/141\u001b[0m \u001b[32m━━━━━━━━━━━━━━━━━━━━\u001b[0m\u001b[37m\u001b[0m \u001b[1m6s\u001b[0m 41ms/step - accuracy: 0.9997 - loss: 0.0021 - precision: 1.0000 - recall: 0.9987 - val_accuracy: 0.7347 - val_loss: 0.7850 - val_precision: 0.4953 - val_recall: 0.7085 - learning_rate: 2.0000e-04\n",
      "Epoch 9/100\n",
      "\u001b[1m141/141\u001b[0m \u001b[32m━━━━━━━━━━━━━━━━━━━━\u001b[0m\u001b[37m\u001b[0m \u001b[1m6s\u001b[0m 41ms/step - accuracy: 0.9992 - loss: 0.0026 - precision: 0.9973 - recall: 0.9998 - val_accuracy: 0.7303 - val_loss: 0.8039 - val_precision: 0.4897 - val_recall: 0.7254 - learning_rate: 2.0000e-04\n",
      "Epoch 10/100\n",
      "\u001b[1m141/141\u001b[0m \u001b[32m━━━━━━━━━━━━━━━━━━━━\u001b[0m\u001b[37m\u001b[0m \u001b[1m6s\u001b[0m 41ms/step - accuracy: 0.9985 - loss: 0.0040 - precision: 0.9975 - recall: 0.9969 - val_accuracy: 0.7311 - val_loss: 0.8154 - val_precision: 0.4909 - val_recall: 0.7288 - learning_rate: 2.0000e-04\n",
      "Epoch 11/100\n",
      "\u001b[1m141/141\u001b[0m \u001b[32m━━━━━━━━━━━━━━━━━━━━\u001b[0m\u001b[37m\u001b[0m \u001b[1m6s\u001b[0m 41ms/step - accuracy: 0.9994 - loss: 0.0015 - precision: 0.9978 - recall: 1.0000 - val_accuracy: 0.7294 - val_loss: 0.8246 - val_precision: 0.4886 - val_recall: 0.7254 - learning_rate: 2.0000e-04\n"
     ]
    }
   ],
   "source": [
    "#training and predicting\n",
    "# Set up callbacks for better training\n",
    "early_stopping = keras.callbacks.EarlyStopping(\n",
    "    monitor='val_loss',\n",
    "    patience=10,\n",
    "    restore_best_weights=True\n",
    ")\n",
    "\n",
    "reduce_lr = keras.callbacks.ReduceLROnPlateau(\n",
    "    monitor='val_loss',\n",
    "    factor=0.2,\n",
    "    patience=5,\n",
    "    min_lr=0.0001\n",
    ")\n",
    "\n",
    "# Train the model\n",
    "print(\"\\nTraining the model...\")\n",
    "history = model.fit(\n",
    "    X_train_scaled, y_train,\n",
    "    batch_size=32,\n",
    "    epochs=100,\n",
    "    validation_split=0.2,\n",
    "    callbacks=[early_stopping, reduce_lr],\n",
    "    verbose=1\n",
    ")\n"
   ]
  },
  {
   "cell_type": "code",
   "execution_count": 10,
   "id": "f53f33dc",
   "metadata": {},
   "outputs": [
    {
     "name": "stdout",
     "output_type": "stream",
     "text": [
      "\u001b[1m45/45\u001b[0m \u001b[32m━━━━━━━━━━━━━━━━━━━━\u001b[0m\u001b[37m\u001b[0m \u001b[1m1s\u001b[0m 8ms/step\n",
      "\n",
      "Test Results:\n",
      "Test Loss: 0.6096\n",
      "Test Accuracy: 0.6338\n",
      "Test Precision: 0.4110\n",
      "Test Recall: 0.8770\n",
      "\n",
      "Classification Report:\n",
      "              precision    recall  f1-score   support\n",
      "\n",
      "           0       0.92      0.55      0.69      1035\n",
      "           1       0.41      0.88      0.56       374\n",
      "\n",
      "    accuracy                           0.63      1409\n",
      "   macro avg       0.67      0.71      0.62      1409\n",
      "weighted avg       0.79      0.63      0.65      1409\n",
      "\n"
     ]
    },
    {
     "data": {
      "image/png": "[encoded data removed]",
      "text/plain": [
       "<Figure size 800x600 with 2 Axes>"
      ]
     },
     "metadata": {},
     "output_type": "display_data"
    },
    {
     "data": {
      "image/png": "[encoded data removed]",
      "text/plain": [
       "<Figure size 1200x400 with 2 Axes>"
      ]
     },
     "metadata": {},
     "output_type": "display_data"
    }
   ],
   "source": [
    "#evaluation and prediction\n",
    "# Make predictions on test set\n",
    "y_pred_proba = model.predict(X_test_scaled)\n",
    "y_pred = (y_pred_proba > 0.5).astype(int).flatten()\n",
    "\n",
    "# Evaluate the model\n",
    "test_loss, test_accuracy, test_precision, test_recall = model.evaluate(X_test_scaled, y_test, verbose=0)\n",
    "\n",
    "print(f\"\\nTest Results:\")\n",
    "print(f\"Test Loss: {test_loss:.4f}\")\n",
    "print(f\"Test Accuracy: {test_accuracy:.4f}\")\n",
    "print(f\"Test Precision: {test_precision:.4f}\")\n",
    "print(f\"Test Recall: {test_recall:.4f}\")\n",
    "\n",
    "# Detailed classification report\n",
    "print(\"\\nClassification Report:\")\n",
    "print(classification_report(y_test, y_pred))\n",
    "\n",
    "# Confusion Matrix\n",
    "plt.figure(figsize=(8, 6))\n",
    "cm = confusion_matrix(y_test, y_pred)\n",
    "sns.heatmap(cm, annot=True, fmt='d', cmap='Blues', \n",
    "            xticklabels=['No Churn', 'Churn'], \n",
    "            yticklabels=['No Churn', 'Churn'])\n",
    "plt.title('Confusion Matrix')\n",
    "plt.ylabel('Actual')\n",
    "plt.xlabel('Predicted')\n",
    "plt.show()\n",
    "\n",
    "# Plot training history\n",
    "plt.figure(figsize=(12, 4))\n",
    "\n",
    "plt.subplot(1, 2, 1)\n",
    "plt.plot(history.history['loss'], label='Training Loss')\n",
    "plt.plot(history.history['val_loss'], label='Validation Loss')\n",
    "plt.title('Model Loss')\n",
    "plt.xlabel('Epoch')\n",
    "plt.ylabel('Loss')\n",
    "plt.legend()\n",
    "\n",
    "plt.subplot(1, 2, 2)\n",
    "plt.plot(history.history['accuracy'], label='Training Accuracy')\n",
    "plt.plot(history.history['val_accuracy'], label='Validation Accuracy')\n",
    "plt.title('Model Accuracy')\n",
    "plt.xlabel('Epoch')\n",
    "plt.ylabel('Accuracy')\n",
    "plt.legend()\n",
    "\n",
    "plt.tight_layout()\n",
    "plt.show()\n"
   ]
  },
  {
   "cell_type": "code",
   "execution_count": 11,
   "id": "a05932f0",
   "metadata": {},
   "outputs": [
    {
     "name": "stderr",
     "output_type": "stream",
     "text": [
      "WARNING:absl:You are saving your model as an HDF5 file via `model.save()` or `keras.saving.save_model(model)`. This file format is considered legacy. We recommend using instead the native Keras format, e.g. `model.save('my_model.keras')` or `keras.saving.save_model(model, 'my_model.keras')`. \n"
     ]
    },
    {
     "name": "stdout",
     "output_type": "stream",
     "text": [
      "\n",
      "Model saved as 'churn_prediction_model.h5'\n",
      "Scaler saved as 'scaler.pkl'\n",
      "Feature names saved as 'feature_names.pkl'\n"
     ]
    }
   ],
   "source": [
    "#saving the model\n",
    "# Save the trained model\n",
    "model.save('churn_prediction_model.h5')\n",
    "print(\"\\nModel saved as 'churn_prediction_model.h5'\")\n",
    "\n",
    "# Save the scaler for future use\n",
    "import joblib\n",
    "joblib.dump(scaler, 'scaler.pkl')\n",
    "print(\"Scaler saved as 'scaler.pkl'\")\n",
    "\n",
    "# Save feature names for future reference\n",
    "feature_names = X.columns.tolist()\n",
    "joblib.dump(feature_names, 'feature_names.pkl')\n",
    "print(\"Feature names saved as 'feature_names.pkl'\")\n"
   ]
  },
  {
   "cell_type": "code",
   "execution_count": 12,
   "id": "2902c647",
   "metadata": {},
   "outputs": [
    {
     "name": "stdout",
     "output_type": "stream",
     "text": [
      "\n",
      "==================================================\n",
      "EXAMPLE: Using the saved model for new predictions\n",
      "==================================================\n"
     ]
    },
    {
     "name": "stderr",
     "output_type": "stream",
     "text": [
      "WARNING:absl:Compiled the loaded model, but the compiled metrics have yet to be built. `model.compile_metrics` will be empty until you train or evaluate the model.\n"
     ]
    },
    {
     "name": "stdout",
     "output_type": "stream",
     "text": [
      "\u001b[1m1/1\u001b[0m \u001b[32m━━━━━━━━━━━━━━━━━━━━\u001b[0m\u001b[37m\u001b[0m \u001b[1m0s\u001b[0m 344ms/step\n",
      "Sample predictions:\n",
      "Sample 1: Prediction = 0, Probability = 0.2333\n",
      "Sample 2: Prediction = 0, Probability = 0.2804\n",
      "Sample 3: Prediction = 0, Probability = 0.4410\n",
      "Sample 4: Prediction = 1, Probability = 0.5558\n",
      "Sample 5: Prediction = 1, Probability = 0.6354\n",
      "\n",
      "Model training and saving completed!\n"
     ]
    }
   ],
   "source": [
    "#loading the saved model\n",
    "def load_model_and_predict(new_data):\n",
    "    \"\"\"\n",
    "    Function to load the saved model and make predictions on new data\n",
    "    \n",
    "    Args:\n",
    "        new_data: DataFrame with the same structure as training data (before encoding)\n",
    "    \n",
    "    Returns:\n",
    "        predictions: Array of predictions (0 or 1)\n",
    "        probabilities: Array of prediction probabilities\n",
    "    \"\"\"\n",
    "    \n",
    "    # Load the saved model\n",
    "    loaded_model = keras.models.load_model('churn_prediction_model.h5')\n",
    "    \n",
    "    # Load the scaler\n",
    "    loaded_scaler = joblib.load('scaler.pkl')\n",
    "    \n",
    "    # Load feature names\n",
    "    loaded_feature_names = joblib.load('feature_names.pkl')\n",
    "    \n",
    "    # Preprocess the new data (same as training data)\n",
    "    new_data.columns = new_data.columns.str.strip()\n",
    "    \n",
    "    # Remove churn column if it exists\n",
    "    if churn_col in new_data.columns:\n",
    "        new_data = new_data.drop(churn_col, axis=1)\n",
    "    \n",
    "    # One-hot encode categorical features\n",
    "    cat_cols_new = new_data.select_dtypes(include='object').columns.tolist()\n",
    "    new_data_encoded = pd.get_dummies(new_data, columns=cat_cols_new)\n",
    "    \n",
    "    # Ensure all features from training are present\n",
    "    for feature in loaded_feature_names:\n",
    "        if feature not in new_data_encoded.columns:\n",
    "            new_data_encoded[feature] = 0\n",
    "    \n",
    "    # Reorder columns to match training data\n",
    "    new_data_encoded = new_data_encoded[loaded_feature_names]\n",
    "    \n",
    "    # Scale the features\n",
    "    new_data_scaled = loaded_scaler.transform(new_data_encoded)\n",
    "    \n",
    "    # Make predictions\n",
    "    probabilities = loaded_model.predict(new_data_scaled)\n",
    "    predictions = (probabilities > 0.5).astype(int).flatten()\n",
    "    \n",
    "    return predictions, probabilities.flatten()\n",
    "\n",
    "# Example of how to use the loaded model\n",
    "print(\"\\n\" + \"=\"*50)\n",
    "print(\"EXAMPLE: Using the saved model for new predictions\")\n",
    "print(\"=\"*50)\n",
    "\n",
    "# Example: Create a sample for prediction (replace with your actual new data)\n",
    "sample_data = X_test.iloc[:5].copy()  # Taking first 5 test samples as example\n",
    "\n",
    "# Use the function to make predictions\n",
    "try:\n",
    "    predictions, probabilities = load_model_and_predict(sample_data)\n",
    "    \n",
    "    print(\"Sample predictions:\")\n",
    "    for i, (pred, prob) in enumerate(zip(predictions, probabilities)):\n",
    "        print(f\"Sample {i+1}: Prediction = {pred}, Probability = {prob:.4f}\")\n",
    "        \n",
    "except Exception as e:\n",
    "    print(f\"Error in prediction: {e}\")\n",
    "\n",
    "print(\"\\nModel training and saving completed!\")"
   ]
  }
 ],
 "metadata": {
  "kernelspec": {
   "display_name": "Python 3",
   "language": "python",
   "name": "python3"
  },
  "language_info": {
   "codemirror_mode": {
    "name": "ipython",
    "version": 3
   },
   "file_extension": ".py",
   "mimetype": "text/x-python",
   "name": "python",
   "nbconvert_exporter": "python",
   "pygments_lexer": "ipython3",
   "version": "3.11.1"
  }
 },
 "nbformat": 4,
 "nbformat_minor": 5
}
